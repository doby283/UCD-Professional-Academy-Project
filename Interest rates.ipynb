{
 "cells": [
  {
   "cell_type": "code",
   "execution_count": 58,
   "id": "a983a744-df32-421d-8e00-f78c2622e34e",
   "metadata": {},
   "outputs": [],
   "source": [
    "import pandas as pd\n",
    "import numpy as np\n",
    "import matplotlib.pyplot as plt\n",
    "import seaborn as sns"
   ]
  },
  {
   "cell_type": "code",
   "execution_count": 59,
   "id": "6992fed3-369e-4d27-92ad-e41fe77ac5f1",
   "metadata": {},
   "outputs": [],
   "source": [
    "data = pd.read_csv (r'Desktop/intrate 10 - 22.csv')"
   ]
  },
  {
   "cell_type": "code",
   "execution_count": 60,
   "id": "ee2eb4bc-fd1a-4541-a98b-5d500ed59246",
   "metadata": {},
   "outputs": [],
   "source": [
    "import numpy as np\n",
    "arr=np.genfromtxt('Desktop/intrate 10 - 22.csv',delimiter=',')"
   ]
  },
  {
   "cell_type": "code",
   "execution_count": 61,
   "id": "80033446-a8ec-4598-bff8-999e55ebde58",
   "metadata": {},
   "outputs": [
    {
     "data": {
      "text/plain": [
       "array([[0.05],\n",
       "       [0.05],\n",
       "       [0.05],\n",
       "       ...,\n",
       "       [0.33],\n",
       "       [0.33],\n",
       "       [0.33]])"
      ]
     },
     "execution_count": 61,
     "metadata": {},
     "output_type": "execute_result"
    }
   ],
   "source": [
    "np.delete(arr, 0, axis=1)"
   ]
  },
  {
   "cell_type": "code",
   "execution_count": 62,
   "id": "95b33a4a-4dea-4308-8a85-ed074be34469",
   "metadata": {},
   "outputs": [
    {
     "data": {
      "text/plain": [
       "0.15"
      ]
     },
     "execution_count": 62,
     "metadata": {},
     "output_type": "execute_result"
    }
   ],
   "source": [
    "np.nanmedian(arr)"
   ]
  },
  {
   "cell_type": "code",
   "execution_count": 63,
   "id": "49aa44ee-5ba5-45d6-9d73-b78dd762e354",
   "metadata": {},
   "outputs": [
    {
     "data": {
      "text/plain": [
       "0.4890915841584159"
      ]
     },
     "execution_count": 63,
     "metadata": {},
     "output_type": "execute_result"
    }
   ],
   "source": [
    "np.nanmean(arr)"
   ]
  },
  {
   "cell_type": "code",
   "execution_count": null,
   "id": "a776c3e3-2d18-4461-963e-902e86e8b168",
   "metadata": {},
   "outputs": [],
   "source": []
  },
  {
   "cell_type": "code",
   "execution_count": null,
   "id": "977924de-031b-484c-8dd6-e71bc38e3efd",
   "metadata": {},
   "outputs": [],
   "source": []
  },
  {
   "cell_type": "code",
   "execution_count": null,
   "id": "eaf7b99d-0f7e-42e0-b5fa-29dd1c29aef4",
   "metadata": {},
   "outputs": [],
   "source": []
  },
  {
   "cell_type": "code",
   "execution_count": null,
   "id": "01fd55d1-08b9-41d8-80f6-73e43812b249",
   "metadata": {},
   "outputs": [],
   "source": []
  }
 ],
 "metadata": {
  "kernelspec": {
   "display_name": "Python 3 (ipykernel)",
   "language": "python",
   "name": "python3"
  },
  "language_info": {
   "codemirror_mode": {
    "name": "ipython",
    "version": 3
   },
   "file_extension": ".py",
   "mimetype": "text/x-python",
   "name": "python",
   "nbconvert_exporter": "python",
   "pygments_lexer": "ipython3",
   "version": "3.9.7"
  }
 },
 "nbformat": 4,
 "nbformat_minor": 5
}
